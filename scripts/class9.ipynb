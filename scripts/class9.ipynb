{
 "cells": [
  {
   "cell_type": "markdown",
   "metadata": {},
   "source": [
    "Exercise 16:\n",
    "\n",
    "16.1) Build , train and evaluate a neural network • Build, train and evaluate a NN based on the following instructions:\n",
    "\n",
    "\n",
    "The training dataset has 32 features\n",
    "\n",
    "The task is binary classification\n",
    "\n",
    "Use the SGD optimizer\n",
    "\n",
    "Use the BinaryCrossEntropy loss\n",
    "\n",
    "Use the accuracy metric\n",
    "\n",
    "The model should contain: • Dense layer 1 • ReLU activation layer 1 • Dense layer 2 • ReLU activation layer 2 • Output Dense layer • Sigmoid activation layer\n",
    "\n",
    "The dense layers should reduce the number of units to half except the last one\n",
    "\n",
    "Train the NN for 100 epochs , with batch size of 16 with a learning rate of 0.01.\n",
    "\n",
    "Test the model on na independent test set ( you can create a random train and test set using numpy)."
   ]
  },
  {
   "cell_type": "code",
   "execution_count": 2,
   "metadata": {},
   "outputs": [],
   "source": [
    "from si.data.dataset import Dataset\n",
    "from si.neural_networks.layers import Layer, DenseLayer\n",
    "from si.neural_networks.layers import DropoutLay\n",
    "from si.neural_networks.neural_network import NeuralNetwork\n",
    "from si.neural_networks.optimizers import SGD\n",
    "from si.neural_networks.activation import ReLUActivation,SigmoidActivation\n",
    "from si.neural_networks.losses import BinaryCrossEntropy\n",
    "from si.model_selection.split import stratified_train_test_split\n",
    "from si.metrics.mse import mse\n",
    "from si.metrics.accuracy import accuracy\n",
    "from si.io.csv_file import read_csv\n",
    "import numpy as np\n"
   ]
  },
  {
   "cell_type": "code",
   "execution_count": 3,
   "metadata": {},
   "outputs": [],
   "source": [
    "# Generate random training and testing data\n",
    "np.random.seed(42)\n",
    "train_X = np.random.rand(1000, 32)\n",
    "train_y = np.random.randint(2, size=1000)\n",
    "\n",
    "test_X = np.random.rand(200, 32)\n",
    "test_y = np.random.randint(2, size=200)\n",
    "\n",
    "train_dataset = Dataset(X=train_X, y=train_y)\n",
    "test_dataset = Dataset(X=test_X, y=test_y)"
   ]
  },
  {
   "cell_type": "code",
   "execution_count": 4,
   "metadata": {},
   "outputs": [
    {
     "data": {
      "text/plain": [
       "<si.neural_networks.neural_network.NeuralNetwork at 0x7f9443febc10>"
      ]
     },
     "execution_count": 4,
     "metadata": {},
     "output_type": "execute_result"
    }
   ],
   "source": [
    "# Build the neural network\n",
    "model = NeuralNetwork(epochs=100, batch_size=16, optimizer=SGD, learning_rate=0.01,\n",
    "                      loss=BinaryCrossEntropy, metric=accuracy, verbose=True)\n",
    "\n",
    "n_features = train_X.shape[1]\n",
    "model.add(DenseLayer(n_units=n_features // 2, input_shape=(n_features,)))\n",
    "model.add(ReLUActivation())\n",
    "model.add(DenseLayer(n_units=n_features // 4))\n",
    "model.add(ReLUActivation())\n",
    "model.add(DenseLayer(n_units=1))\n",
    "model.add(SigmoidActivation())"
   ]
  },
  {
   "cell_type": "code",
   "execution_count": 5,
   "metadata": {},
   "outputs": [
    {
     "data": {
      "text/plain": [
       "<si.neural_networks.neural_network.NeuralNetwork at 0x7f9443f0cb80>"
      ]
     },
     "execution_count": 5,
     "metadata": {},
     "output_type": "execute_result"
    }
   ],
   "source": [
    "# Build the neural network\n",
    "model = NeuralNetwork(epochs=100, batch_size=16, optimizer=SGD, learning_rate=0.01,\n",
    "                      loss=BinaryCrossEntropy, metric=accuracy, verbose=True)\n",
    "\n",
    "n_features = train_X.shape[1]\n",
    "model.add(DenseLayer(n_units=n_features // 2, input_shape=(n_features,)))\n",
    "model.add(ReLUActivation())\n",
    "model.add(DenseLayer(n_units=n_features // 4))\n",
    "model.add(ReLUActivation())\n",
    "model.add(DenseLayer(n_units=1))\n",
    "model.add(SigmoidActivation())"
   ]
  },
  {
   "cell_type": "code",
   "execution_count": 6,
   "metadata": {},
   "outputs": [
    {
     "name": "stdout",
     "output_type": "stream",
     "text": [
      "Epoch 1/100 - loss: 695.7003 - accuracy: 0.4778\n",
      "Epoch 2/100 - loss: 691.7028 - accuracy: 0.4980\n",
      "Epoch 3/100 - loss: 689.1960 - accuracy: 0.4929\n",
      "Epoch 4/100 - loss: 688.4977 - accuracy: 0.5010\n",
      "Epoch 5/100 - loss: 689.3712 - accuracy: 0.4889\n",
      "Epoch 6/100 - loss: 687.6056 - accuracy: 0.5171\n",
      "Epoch 7/100 - loss: 688.5014 - accuracy: 0.4980\n",
      "Epoch 8/100 - loss: 686.6175 - accuracy: 0.5292\n",
      "Epoch 9/100 - loss: 687.0132 - accuracy: 0.5444\n",
      "Epoch 10/100 - loss: 687.1651 - accuracy: 0.5161\n",
      "Epoch 11/100 - loss: 686.6634 - accuracy: 0.5242\n",
      "Epoch 12/100 - loss: 686.2197 - accuracy: 0.5403\n",
      "Epoch 13/100 - loss: 686.1144 - accuracy: 0.5081\n",
      "Epoch 14/100 - loss: 686.8996 - accuracy: 0.5131\n",
      "Epoch 15/100 - loss: 683.4141 - accuracy: 0.5161\n",
      "Epoch 16/100 - loss: 686.0813 - accuracy: 0.5312\n",
      "Epoch 17/100 - loss: 682.9238 - accuracy: 0.5433\n",
      "Epoch 18/100 - loss: 684.4822 - accuracy: 0.5363\n",
      "Epoch 19/100 - loss: 681.7170 - accuracy: 0.5363\n",
      "Epoch 20/100 - loss: 682.7851 - accuracy: 0.5433\n",
      "Epoch 21/100 - loss: 681.3737 - accuracy: 0.5444\n",
      "Epoch 22/100 - loss: 680.7599 - accuracy: 0.5494\n",
      "Epoch 23/100 - loss: 676.0296 - accuracy: 0.5565\n",
      "Epoch 24/100 - loss: 678.4474 - accuracy: 0.5726\n",
      "Epoch 25/100 - loss: 673.8353 - accuracy: 0.5806\n",
      "Epoch 26/100 - loss: 677.6664 - accuracy: 0.5464\n",
      "Epoch 27/100 - loss: 675.4548 - accuracy: 0.5655\n",
      "Epoch 28/100 - loss: 674.4914 - accuracy: 0.5585\n",
      "Epoch 29/100 - loss: 672.5887 - accuracy: 0.5665\n",
      "Epoch 30/100 - loss: 671.8279 - accuracy: 0.5605\n",
      "Epoch 31/100 - loss: 671.5784 - accuracy: 0.5847\n",
      "Epoch 32/100 - loss: 668.6173 - accuracy: 0.5897\n",
      "Epoch 33/100 - loss: 668.6178 - accuracy: 0.5716\n",
      "Epoch 34/100 - loss: 666.8346 - accuracy: 0.5827\n",
      "Epoch 35/100 - loss: 666.2947 - accuracy: 0.5786\n",
      "Epoch 36/100 - loss: 661.7277 - accuracy: 0.5817\n",
      "Epoch 37/100 - loss: 660.7820 - accuracy: 0.5938\n",
      "Epoch 38/100 - loss: 657.3525 - accuracy: 0.5978\n",
      "Epoch 39/100 - loss: 656.1876 - accuracy: 0.6079\n",
      "Epoch 40/100 - loss: 650.4528 - accuracy: 0.6028\n",
      "Epoch 41/100 - loss: 646.1357 - accuracy: 0.6351\n",
      "Epoch 42/100 - loss: 649.3809 - accuracy: 0.6048\n",
      "Epoch 43/100 - loss: 646.2122 - accuracy: 0.6069\n",
      "Epoch 44/100 - loss: 640.4223 - accuracy: 0.6149\n",
      "Epoch 45/100 - loss: 641.8344 - accuracy: 0.6149\n",
      "Epoch 46/100 - loss: 635.8949 - accuracy: 0.6290\n",
      "Epoch 47/100 - loss: 627.4422 - accuracy: 0.6361\n",
      "Epoch 48/100 - loss: 632.6711 - accuracy: 0.6310\n",
      "Epoch 49/100 - loss: 630.7518 - accuracy: 0.6290\n",
      "Epoch 50/100 - loss: 630.4258 - accuracy: 0.6290\n",
      "Epoch 51/100 - loss: 631.9036 - accuracy: 0.6210\n",
      "Epoch 52/100 - loss: 618.2921 - accuracy: 0.6442\n",
      "Epoch 53/100 - loss: 628.5441 - accuracy: 0.6230\n",
      "Epoch 54/100 - loss: 615.2460 - accuracy: 0.6482\n",
      "Epoch 55/100 - loss: 617.7445 - accuracy: 0.6411\n",
      "Epoch 56/100 - loss: 618.2572 - accuracy: 0.6522\n",
      "Epoch 57/100 - loss: 606.6491 - accuracy: 0.6532\n",
      "Epoch 58/100 - loss: 605.7855 - accuracy: 0.6542\n",
      "Epoch 59/100 - loss: 603.4710 - accuracy: 0.6573\n",
      "Epoch 60/100 - loss: 598.4841 - accuracy: 0.6492\n",
      "Epoch 61/100 - loss: 605.7069 - accuracy: 0.6613\n",
      "Epoch 62/100 - loss: 599.1953 - accuracy: 0.6714\n",
      "Epoch 63/100 - loss: 595.1027 - accuracy: 0.6613\n",
      "Epoch 64/100 - loss: 602.5554 - accuracy: 0.6643\n",
      "Epoch 65/100 - loss: 584.6647 - accuracy: 0.6865\n",
      "Epoch 66/100 - loss: 572.3830 - accuracy: 0.6875\n",
      "Epoch 67/100 - loss: 584.6041 - accuracy: 0.6865\n",
      "Epoch 68/100 - loss: 572.2177 - accuracy: 0.6905\n",
      "Epoch 69/100 - loss: 583.4465 - accuracy: 0.6885\n",
      "Epoch 70/100 - loss: 566.4163 - accuracy: 0.6754\n",
      "Epoch 71/100 - loss: 562.2278 - accuracy: 0.6996\n",
      "Epoch 72/100 - loss: 560.4210 - accuracy: 0.7056\n",
      "Epoch 73/100 - loss: 563.5670 - accuracy: 0.6976\n",
      "Epoch 74/100 - loss: 561.3445 - accuracy: 0.6734\n",
      "Epoch 75/100 - loss: 549.9470 - accuracy: 0.7036\n",
      "Epoch 76/100 - loss: 555.2605 - accuracy: 0.7036\n",
      "Epoch 77/100 - loss: 554.2863 - accuracy: 0.7117\n",
      "Epoch 78/100 - loss: 535.4815 - accuracy: 0.7218\n",
      "Epoch 79/100 - loss: 541.1951 - accuracy: 0.7117\n",
      "Epoch 80/100 - loss: 540.2486 - accuracy: 0.7107\n",
      "Epoch 81/100 - loss: 512.5933 - accuracy: 0.7500\n",
      "Epoch 82/100 - loss: 540.7486 - accuracy: 0.7188\n",
      "Epoch 83/100 - loss: 516.3575 - accuracy: 0.7258\n",
      "Epoch 84/100 - loss: 516.5190 - accuracy: 0.7399\n",
      "Epoch 85/100 - loss: 518.7897 - accuracy: 0.7228\n",
      "Epoch 86/100 - loss: 508.5912 - accuracy: 0.7510\n",
      "Epoch 87/100 - loss: 532.5297 - accuracy: 0.7359\n",
      "Epoch 88/100 - loss: 511.0060 - accuracy: 0.7329\n",
      "Epoch 89/100 - loss: 492.9872 - accuracy: 0.7470\n",
      "Epoch 90/100 - loss: 507.2482 - accuracy: 0.7419\n",
      "Epoch 91/100 - loss: 518.8435 - accuracy: 0.7278\n",
      "Epoch 92/100 - loss: 502.1583 - accuracy: 0.7560\n",
      "Epoch 93/100 - loss: 495.7401 - accuracy: 0.7490\n",
      "Epoch 94/100 - loss: 508.2589 - accuracy: 0.7298\n",
      "Epoch 95/100 - loss: 472.9231 - accuracy: 0.7601\n",
      "Epoch 96/100 - loss: 480.3243 - accuracy: 0.7692\n",
      "Epoch 97/100 - loss: 512.3958 - accuracy: 0.7339\n",
      "Epoch 98/100 - loss: 478.8977 - accuracy: 0.7540\n",
      "Epoch 99/100 - loss: 474.2106 - accuracy: 0.7550\n",
      "Epoch 100/100 - loss: 483.9059 - accuracy: 0.7530\n"
     ]
    },
    {
     "data": {
      "text/plain": [
       "<si.neural_networks.neural_network.NeuralNetwork at 0x7f9443f0cb80>"
      ]
     },
     "execution_count": 6,
     "metadata": {},
     "output_type": "execute_result"
    }
   ],
   "source": [
    "# Train the neural network\n",
    "model.fit(train_dataset)"
   ]
  },
  {
   "cell_type": "code",
   "execution_count": 7,
   "metadata": {},
   "outputs": [
    {
     "name": "stdout",
     "output_type": "stream",
     "text": [
      "Test score: 0.51\n"
     ]
    }
   ],
   "source": [
    "# Test the model on the independent test set\n",
    "test_score = model.score(test_dataset)\n",
    "print(f\"Test score: {test_score}\")"
   ]
  }
 ],
 "metadata": {
  "kernelspec": {
   "display_name": "base",
   "language": "python",
   "name": "python3"
  },
  "language_info": {
   "codemirror_mode": {
    "name": "ipython",
    "version": 3
   },
   "file_extension": ".py",
   "mimetype": "text/x-python",
   "name": "python",
   "nbconvert_exporter": "python",
   "pygments_lexer": "ipython3",
   "version": "3.9.13"
  }
 },
 "nbformat": 4,
 "nbformat_minor": 2
}
