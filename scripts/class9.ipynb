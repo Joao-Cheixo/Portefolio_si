{
 "cells": [
  {
   "cell_type": "markdown",
   "metadata": {},
   "source": [
    "Exercise 16:\n",
    "\n",
    "16.1) Build , train and evaluate a neural network • Build, train and evaluate a NN based on the following instructions:\n",
    "\n",
    "\n",
    "The training dataset has 32 features\n",
    "\n",
    "The task is binary classification\n",
    "\n",
    "Use the SGD optimizer\n",
    "\n",
    "Use the BinaryCrossEntropy loss\n",
    "\n",
    "Use the accuracy metric\n",
    "\n",
    "The model should contain: • Dense layer 1 • ReLU activation layer 1 • Dense layer 2 • ReLU activation layer 2 • Output Dense layer • Sigmoid activation layer\n",
    "\n",
    "The dense layers should reduce the number of units to half except the last one\n",
    "\n",
    "Train the NN for 100 epochs , with batch size of 16 with a learning rate of 0.01.\n",
    "\n",
    "Test the model on na independent test set ( you can create a random train and test set using numpy)."
   ]
  },
  {
   "cell_type": "code",
   "execution_count": null,
   "metadata": {},
   "outputs": [],
   "source": [
    "from si.data.dataset import Dataset\n",
    "from si.neural_networks.layers import Layer, DenseLayer\n",
    "from si.neural_networks.dropout import Dropout\n",
    "from si.neural_networks.neural_network import NeuralNetwork\n",
    "from si.neural_networks.optimizers import SGD\n",
    "from si.neural_networks.activation import ReLUActivation,SigmoidActivation\n",
    "from si.neural_networks.losses import MeanSquaredError, BinaryCrossEntropy\n",
    "from si.model_selection.split import stratified_train_test_split\n",
    "from si.metrics.mse import mse\n",
    "from si.metrics.accuracy import accuracy\n",
    "from si.io.csv_file import read_csv\n",
    "import numpy as np\n"
   ]
  },
  {
   "cell_type": "code",
   "execution_count": null,
   "metadata": {},
   "outputs": [],
   "source": [
    "# Generate random training and testing data\n",
    "np.random.seed(42)\n",
    "train_X = np.random.rand(1000, 32)\n",
    "train_y = np.random.randint(2, size=1000)\n",
    "\n",
    "test_X = np.random.rand(200, 32)\n",
    "test_y = np.random.randint(2, size=200)\n",
    "\n",
    "train_dataset = Dataset(X=train_X, y=train_y)\n",
    "test_dataset = Dataset(X=test_X, y=test_y)"
   ]
  },
  {
   "cell_type": "code",
   "execution_count": null,
   "metadata": {},
   "outputs": [],
   "source": [
    "# Build the neural network\n",
    "model = NeuralNetwork(epochs=100, batch_size=16, optimizer=SGD, learning_rate=0.01,\n",
    "                      loss=BinaryCrossEntropy, metric=accuracy, verbose=True)\n",
    "\n",
    "n_features = train_X.shape[1]\n",
    "model.add(DenseLayer(n_units=n_features // 2, input_shape=(n_features,)))\n",
    "model.add(ReLUActivation())\n",
    "model.add(DenseLayer(n_units=n_features // 4))\n",
    "model.add(ReLUActivation())\n",
    "model.add(DenseLayer(n_units=1))\n",
    "model.add(SigmoidActivation())"
   ]
  },
  {
   "cell_type": "code",
   "execution_count": null,
   "metadata": {},
   "outputs": [],
   "source": [
    "# Build the neural network\n",
    "model = NeuralNetwork(epochs=100, batch_size=16, optimizer=SGD, learning_rate=0.01,\n",
    "                      loss=BinaryCrossEntropy, metric=accuracy, verbose=True)\n",
    "\n",
    "n_features = train_X.shape[1]\n",
    "model.add(DenseLayer(n_units=n_features // 2, input_shape=(n_features,)))\n",
    "model.add(ReLUActivation())\n",
    "model.add(DenseLayer(n_units=n_features // 4))\n",
    "model.add(ReLUActivation())\n",
    "model.add(DenseLayer(n_units=1))\n",
    "model.add(SigmoidActivation())"
   ]
  },
  {
   "cell_type": "code",
   "execution_count": null,
   "metadata": {},
   "outputs": [],
   "source": [
    "# Train the neural network\n",
    "model.fit(train_dataset)"
   ]
  },
  {
   "cell_type": "code",
   "execution_count": null,
   "metadata": {},
   "outputs": [],
   "source": [
    "# Test the model on the independent test set\n",
    "test_score = model.score(test_dataset)\n",
    "print(f\"Test score: {test_score}\")"
   ]
  }
 ],
 "metadata": {
  "language_info": {
   "name": "python"
  }
 },
 "nbformat": 4,
 "nbformat_minor": 2
}
