{
 "cells": [
  {
   "cell_type": "markdown",
   "metadata": {},
   "source": [
    "Evaluation 1\n",
    "\n",
    "\n",
    "Exercise 1: NumPy array Indexing Slicing\n",
    "\n",
    "\n",
    "1.1) In this exercise , we will use the iris dataset . Load the \"iris.csv\" using the appropriate method for this file type (use the new functions from the package)."
   ]
  },
  {
   "cell_type": "code",
   "execution_count": 1,
   "metadata": {},
   "outputs": [
    {
     "ename": "SyntaxError",
     "evalue": "invalid syntax (register.py, line 125)",
     "output_type": "error",
     "traceback": [
      "Traceback \u001b[0;36m(most recent call last)\u001b[0m:\n",
      "  File \u001b[1;32m\"/home/joao/anaconda3/lib/python3.9/site-packages/IPython/core/interactiveshell.py\"\u001b[0m, line \u001b[1;32m3457\u001b[0m, in \u001b[1;35mrun_code\u001b[0m\n    exec(code_obj, self.user_global_ns, self.user_ns)\n",
      "  File \u001b[1;32m\"/tmp/ipykernel_126904/2462849215.py\"\u001b[0m, line \u001b[1;32m3\u001b[0m, in \u001b[1;35m<module>\u001b[0m\n    from si.io.csv_file import read_csv\n",
      "\u001b[0;36m  File \u001b[0;32m\"/home/joao/anaconda3/lib/python3.9/site-packages/si/__init__.py\"\u001b[0;36m, line \u001b[0;32m32\u001b[0;36m, in \u001b[0;35m<module>\u001b[0;36m\u001b[0m\n\u001b[0;31m    import si.register\u001b[0m\n",
      "\u001b[0;36m  File \u001b[0;32m\"/home/joao/anaconda3/lib/python3.9/site-packages/si/register.py\"\u001b[0;36m, line \u001b[0;32m125\u001b[0m\n\u001b[0;31m    raise Exception, \"No unicode symbol available.\"\u001b[0m\n\u001b[0m                   ^\u001b[0m\n\u001b[0;31mSyntaxError\u001b[0m\u001b[0;31m:\u001b[0m invalid syntax\n"
     ]
    }
   ],
   "source": [
    "import pandas as pd \n",
    "import numpy as np\n",
    "from si.io.csv_file import read_csv \n",
    "\n",
    "df_path = \"\\iris\\iris.csv\" \n",
    "iris_df = read_csv(df_path, sep = ',', features = True, label = True) \n",
    "iris_df"
   ]
  },
  {
   "cell_type": "code",
   "execution_count": null,
   "metadata": {},
   "outputs": [],
   "source": [
    "iris_df.summary() "
   ]
  },
  {
   "cell_type": "markdown",
   "metadata": {},
   "source": [
    "1.2) Select the penultimate independent variable . What is the dimension of the resulting array"
   ]
  },
  {
   "cell_type": "code",
   "execution_count": null,
   "metadata": {},
   "outputs": [],
   "source": [
    "penultimate_var = iris_df.X[:, -2] \n",
    "dim = len(penultimate_var) \n",
    "print(f\" The dimension of the penultimate independet variable is %d.\" % dim) "
   ]
  },
  {
   "cell_type": "markdown",
   "metadata": {},
   "source": [
    "\n",
    "1.3) Select the last 10 samples from the iris dataset . What is the mean of the last 10 samples for each independent variable feature"
   ]
  },
  {
   "cell_type": "code",
   "execution_count": null,
   "metadata": {},
   "outputs": [],
   "source": [
    "last_ten = iris_df.X[-10:] \n",
    "print(f\" The last 10 samples of the dataset are: \\n %s\" %last_ten) "
   ]
  },
  {
   "cell_type": "code",
   "execution_count": null,
   "metadata": {},
   "outputs": [],
   "source": [
    "ast_ten_mean = last_ten.mean(axis=0) \n",
    "print(f\" The mean of each variable of the last 10 samples is: \\n %s\" %last_ten_mean) #imprime o resultado como uma str"
   ]
  },
  {
   "cell_type": "markdown",
   "metadata": {},
   "source": [
    "1.4) Select all samples from the dataset with values less than or equal to 6 for all independent variables features . How many samples do you obtain"
   ]
  },
  {
   "cell_type": "code",
   "execution_count": null,
   "metadata": {},
   "outputs": [],
   "source": [
    "less6 = iris_df.X[(iris_df.X[:,] <= 6).all(axis=1)]  "
   ]
  },
  {
   "cell_type": "code",
   "execution_count": null,
   "metadata": {},
   "outputs": [],
   "source": [
    "print(f\" The samples with variables values equal or less 6 are: %s\" %len(less6))"
   ]
  },
  {
   "cell_type": "markdown",
   "metadata": {},
   "source": [
    "1.5) Select all samples with a class label different from 'Iris setosa '. How many samples do you obtain"
   ]
  },
  {
   "cell_type": "code",
   "execution_count": null,
   "metadata": {},
   "outputs": [],
   "source": [
    "not_setosa_n = iris_df.X[iris_df.y != 'Iris-setosa']\n",
    "print(f\" The samples classified different as Iris setosa are \\n %s.\" %not_setosa_n) "
   ]
  },
  {
   "cell_type": "code",
   "execution_count": null,
   "metadata": {},
   "outputs": [],
   "source": [
    "print(f\" The number of samples classified different as Iris setosa is %s.\" %(len(not_setosa_n)))"
   ]
  },
  {
   "cell_type": "markdown",
   "metadata": {},
   "source": [
    "EXERCISE 2 - Optional: You can add examples of how to use these methods:\n",
    "\n",
    "dropna\n",
    "fillna\n",
    "remove_by_index"
   ]
  },
  {
   "cell_type": "code",
   "execution_count": null,
   "metadata": {},
   "outputs": [],
   "source": [
    "from si.data.dataset import Dataset\n",
    "import numpy as np"
   ]
  },
  {
   "cell_type": "markdown",
   "metadata": {},
   "source": [
    "dropna"
   ]
  },
  {
   "cell_type": "code",
   "execution_count": null,
   "metadata": {},
   "outputs": [],
   "source": [
    "X = np.array([[1, 2, 3],\n",
    "                   [4, np.nan, 6],\n",
    "                   [7, 8, 9]])\n",
    "\n",
    "y = np.array([10, 11, 12])\n",
    "features = ['A', 'B', 'C']\n",
    "label = ['y']\n",
    "data = Dataset(X, y, features, label)\n",
    "\n",
    "print(\"Before dropna:\\n\", data.X)\n",
    "data.dropna()\n",
    "print(\"After dropna:\\n\", data.X)"
   ]
  },
  {
   "cell_type": "markdown",
   "metadata": {},
   "source": [
    "fillna"
   ]
  },
  {
   "cell_type": "code",
   "execution_count": null,
   "metadata": {},
   "outputs": [],
   "source": [
    "X = np.array([[1, 2, 3],\n",
    "                   [4, np.nan, 6],\n",
    "                   [7, 8, 9]])\n",
    "\n",
    "y = np.array([10, 11, 12])\n",
    "features = ['A', 'B', 'C']\n",
    "label = ['y']\n",
    "\n",
    "data = Dataset(X, y, features, label)\n",
    "print(\"Before fillna:\\n\", data.X)\n",
    "data.fillna(1)\n",
    "print(\"After fillna float:\\n\",data.X)\n",
    "\n",
    "data = Dataset(X, y, features, label)\n",
    "data.fillna('mean')\n",
    "print(\"After fillna mean:\\n\", data.X)\n",
    "\n",
    "data = Dataset(X, y, features, label)\n",
    "data.fillna('median')\n",
    "print(\"After fillna median:\\n\", data.X)"
   ]
  },
  {
   "cell_type": "markdown",
   "metadata": {},
   "source": [
    "remove_by_index"
   ]
  },
  {
   "cell_type": "code",
   "execution_count": null,
   "metadata": {},
   "outputs": [],
   "source": [
    "X = np.array([[1, 2, 3],\n",
    "                   [4, np.nan, 6],\n",
    "                   [7, 8, 9]])\n",
    "\n",
    "y = np.array([10, 11, 12])\n",
    "features = ['A', 'B', 'C']\n",
    "label = ['y']\n",
    "\n",
    "data = Dataset(X, y, features, label)\n",
    "print(data.X)\n",
    "print()\n",
    "data.remove_by_index(1)\n",
    "print(data.X)"
   ]
  }
 ],
 "metadata": {
  "kernelspec": {
   "display_name": "base",
   "language": "python",
   "name": "python3"
  },
  "language_info": {
   "codemirror_mode": {
    "name": "ipython",
    "version": 3
   },
   "file_extension": ".py",
   "mimetype": "text/x-python",
   "name": "python",
   "nbconvert_exporter": "python",
   "pygments_lexer": "ipython3",
   "version": "3.9.13"
  }
 },
 "nbformat": 4,
 "nbformat_minor": 2
}
