{
 "cells": [
  {
   "cell_type": "markdown",
   "metadata": {},
   "source": [
    "Evaluation 4\n",
    "\n",
    "\n",
    "Exercise 6: Implementing stratified splitting\n"
   ]
  },
  {
   "cell_type": "markdown",
   "metadata": {},
   "source": [
    "6.2) Test the \"stratified_train_test_split\" function with the iris dataset."
   ]
  },
  {
   "cell_type": "code",
   "execution_count": 2,
   "metadata": {},
   "outputs": [
    {
     "name": "stdout",
     "output_type": "stream",
     "text": [
      "<si.data.dataset.Dataset object at 0x7fe4800b8490>\n"
     ]
    }
   ],
   "source": [
    "\n",
    "from si.model_selection.split import stratified_train_test_split \n",
    "from si.io.csv_file import read_csv \n",
    "df_path = \"/home/joao/Portefolio_si/datasets/iris/iris.csv\"\n",
    "iris = read_csv(df_path, sep = ',', features = True, label = True) \n",
    "\n",
    "print(iris)"
   ]
  },
  {
   "cell_type": "code",
   "execution_count": 3,
   "metadata": {},
   "outputs": [],
   "source": [
    "train_dataset, test_dataset = stratified_train_test_split(iris, test_size=0.2, random_state=42)"
   ]
  },
  {
   "cell_type": "code",
   "execution_count": 4,
   "metadata": {},
   "outputs": [
    {
     "name": "stdout",
     "output_type": "stream",
     "text": [
      "Train Dataset Shape: (120, 4)\n",
      "Test Dataset Shape: (30, 4)\n"
     ]
    }
   ],
   "source": [
    "print(f\"Train Dataset Shape: {train_dataset.shape()}\") #dataset de treino tem 120 linhas e 4 colunas\n",
    "print(f\"Test Dataset Shape: {test_dataset.shape()}\")"
   ]
  },
  {
   "cell_type": "markdown",
   "metadata": {},
   "source": [
    "Exercise 7: Implementing the KNN Regressor with RMSE"
   ]
  },
  {
   "cell_type": "markdown",
   "metadata": {},
   "source": [
    "7.3) Test the \"KNN Regressor\" class using the \"cpu.csv\" dataset (regression).\n",
    "\n"
   ]
  },
  {
   "cell_type": "code",
   "execution_count": 5,
   "metadata": {},
   "outputs": [
    {
     "name": "stdout",
     "output_type": "stream",
     "text": [
      "<si.data.dataset.Dataset object at 0x7fe482cd28b0>\n"
     ]
    }
   ],
   "source": [
    "from si.models.knn_regressor import KNNRegressor \n",
    "df_path = \"/home/joao/Portefolio_si/datasets/cpu/cpu.csv\"\n",
    "cpu = read_csv(df_path, sep = ',', features = True, label = True) \n",
    "   \n",
    "print(cpu)"
   ]
  },
  {
   "cell_type": "code",
   "execution_count": 6,
   "metadata": {},
   "outputs": [
    {
     "data": {
      "text/plain": [
       "(209, 6)"
      ]
     },
     "execution_count": 6,
     "metadata": {},
     "output_type": "execute_result"
    }
   ],
   "source": [
    "cpu.shape()"
   ]
  },
  {
   "cell_type": "code",
   "execution_count": 7,
   "metadata": {},
   "outputs": [
    {
     "data": {
      "text/plain": [
       "array([[  125,   256,  6000,   256,    16,   128],\n",
       "       [   29,  8000, 32000,    32,     8,    32],\n",
       "       [   29,  8000, 32000,    32,     8,    32],\n",
       "       ...,\n",
       "       [  125,  2000,  8000,     0,     2,    14],\n",
       "       [  480,   512,  8000,    32,     0,     0],\n",
       "       [  480,  1000,  4000,     0,     0,     0]])"
      ]
     },
     "execution_count": 7,
     "metadata": {},
     "output_type": "execute_result"
    }
   ],
   "source": [
    "cpu.X"
   ]
  },
  {
   "cell_type": "code",
   "execution_count": 8,
   "metadata": {},
   "outputs": [],
   "source": [
    "train_dataset_cpu, test_dataset_cpu = stratified_train_test_split(cpu, test_size=0.2, random_state=42)"
   ]
  },
  {
   "cell_type": "code",
   "execution_count": 9,
   "metadata": {},
   "outputs": [
    {
     "name": "stdout",
     "output_type": "stream",
     "text": [
      "Train Dataset Shape: (201, 6)\n",
      "Test Dataset Shape: (8, 6)\n"
     ]
    }
   ],
   "source": [
    "print(f\"Train Dataset Shape: {train_dataset_cpu.shape()}\") \n",
    "print(f\"Test Dataset Shape: {test_dataset_cpu.shape()}\")"
   ]
  },
  {
   "cell_type": "code",
   "execution_count": 10,
   "metadata": {},
   "outputs": [],
   "source": [
    "model_knn_regressor = KNNRegressor(k=3)"
   ]
  },
  {
   "cell_type": "code",
   "execution_count": 11,
   "metadata": {},
   "outputs": [
    {
     "data": {
      "text/plain": [
       "<si.models.knn_regressor.KNNRegressor at 0x7fe4462e2a60>"
      ]
     },
     "execution_count": 11,
     "metadata": {},
     "output_type": "execute_result"
    }
   ],
   "source": [
    "model_knn_regressor.fit(train_dataset_cpu)"
   ]
  },
  {
   "cell_type": "code",
   "execution_count": 12,
   "metadata": {},
   "outputs": [
    {
     "name": "stdout",
     "output_type": "stream",
     "text": [
      "The rmse of the model is: 24.000000000000004\n"
     ]
    }
   ],
   "source": [
    "score = model_knn_regressor.score(test_dataset_cpu) \n",
    "\n",
    "print(f'The rmse of the model is: {score}') "
   ]
  }
 ],
 "metadata": {
  "kernelspec": {
   "display_name": "base",
   "language": "python",
   "name": "python3"
  },
  "language_info": {
   "codemirror_mode": {
    "name": "ipython",
    "version": 3
   },
   "file_extension": ".py",
   "mimetype": "text/x-python",
   "name": "python",
   "nbconvert_exporter": "python",
   "pygments_lexer": "ipython3",
   "version": "3.9.13"
  }
 },
 "nbformat": 4,
 "nbformat_minor": 2
}
